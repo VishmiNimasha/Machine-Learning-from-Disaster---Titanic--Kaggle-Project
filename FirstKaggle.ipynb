{
 "cells": [
  {
   "cell_type": "code",
   "execution_count": 1,
   "id": "8fafa15d-edda-4038-b4e8-771db49d2582",
   "metadata": {},
   "outputs": [],
   "source": [
    "import pandas as pd"
   ]
  },
  {
   "cell_type": "code",
   "execution_count": 2,
   "id": "153dc24f-185f-4780-aeb1-1d2c26ca81e2",
   "metadata": {},
   "outputs": [
    {
     "name": "stdout",
     "output_type": "stream",
     "text": [
      "Requirement already satisfied: pandas in c:\\users\\nimas\\appdata\\local\\programs\\python\\python312\\lib\\site-packages (2.2.2)\n",
      "Requirement already satisfied: numpy>=1.26.0 in c:\\users\\nimas\\appdata\\local\\programs\\python\\python312\\lib\\site-packages (from pandas) (2.0.0)\n",
      "Requirement already satisfied: python-dateutil>=2.8.2 in c:\\users\\nimas\\appdata\\local\\programs\\python\\python312\\lib\\site-packages (from pandas) (2.9.0.post0)\n",
      "Requirement already satisfied: pytz>=2020.1 in c:\\users\\nimas\\appdata\\local\\programs\\python\\python312\\lib\\site-packages (from pandas) (2024.1)\n",
      "Requirement already satisfied: tzdata>=2022.7 in c:\\users\\nimas\\appdata\\local\\programs\\python\\python312\\lib\\site-packages (from pandas) (2024.1)\n",
      "Requirement already satisfied: six>=1.5 in c:\\users\\nimas\\appdata\\local\\programs\\python\\python312\\lib\\site-packages (from python-dateutil>=2.8.2->pandas) (1.16.0)\n"
     ]
    }
   ],
   "source": [
    "!pip install pandas"
   ]
  },
  {
   "cell_type": "code",
   "execution_count": 3,
   "id": "5c25d791-ca3f-4480-bdbb-677ea68e6d84",
   "metadata": {},
   "outputs": [
    {
     "ename": "NameError",
     "evalue": "name 'data' is not defined",
     "output_type": "error",
     "traceback": [
      "\u001b[1;31m---------------------------------------------------------------------------\u001b[0m",
      "\u001b[1;31mNameError\u001b[0m                                 Traceback (most recent call last)",
      "Cell \u001b[1;32mIn[3], line 21\u001b[0m\n\u001b[0;32m     18\u001b[0m     \u001b[38;5;28;01mreturn\u001b[39;00m data\n\u001b[0;32m     20\u001b[0m \u001b[38;5;66;03m# Clean the data and test DataFrames\u001b[39;00m\n\u001b[1;32m---> 21\u001b[0m data \u001b[38;5;241m=\u001b[39m clean(\u001b[43mdata\u001b[49m)\n\u001b[0;32m     22\u001b[0m test \u001b[38;5;241m=\u001b[39m clean(test)\n\u001b[0;32m     24\u001b[0m \u001b[38;5;66;03m# Display the first 5 rows to verify\u001b[39;00m\n",
      "\u001b[1;31mNameError\u001b[0m: name 'data' is not defined"
     ]
    }
   ],
   "source": [
    "\n",
    "\n",
    "# Define the clean function\n",
    "def clean(data):\n",
    "    # Check which columns are present in the DataFrame\n",
    "    print(\"Columns before dropping:\", data.columns.tolist())\n",
    "    \n",
    "    # Drop specified columns only if they exist in the DataFrame\n",
    "    columns_to_drop = [\"Ticket\", \"Cabin\", \"Name\", \"PassengerId\"]\n",
    "    data = data.drop(columns=[col for col in columns_to_drop if col in data.columns], axis=1)\n",
    "    \n",
    "    # Fill missing values for numerical columns\n",
    "    cols = [\"SibSp\", \"Parch\", \"Fare\", \"Age\"]\n",
    "    for col in cols:\n",
    "        data[col] = data[col].fillna(data[col].median())\n",
    "\n",
    "    # Fill missing values for 'Embarked' column\n",
    "    data[\"Embarked\"] = data[\"Embarked\"].fillna(\"U\")\n",
    "    \n",
    "    return data\n",
    "\n",
    "# Clean the data and test DataFrames\n",
    "data = clean(data)\n",
    "test = clean(test)\n",
    "\n",
    "# Display the first 5 rows to verify\n",
    "print(data.head(5))\n",
    "print(test.head(5))\n"
   ]
  },
  {
   "cell_type": "code",
   "execution_count": null,
   "id": "c61304bf-a816-4fcc-af66-ca13858dd849",
   "metadata": {},
   "outputs": [],
   "source": [
    "import os\n",
    "print(os.getcwd())\n"
   ]
  },
  {
   "cell_type": "code",
   "execution_count": null,
   "id": "a837ae0c-a65a-487d-912f-808cdb5986d0",
   "metadata": {},
   "outputs": [],
   "source": [
    "from sklearn import preprocessing\n",
    "le = preprocessing.LabelEncoder()\n",
    "\n",
    "cols = [\"Sex\", \"Embarked\"]\n",
    "\n",
    "for col in cols:\n",
    "    data[col] = le.fit_transform(data[col])\n",
    "    test[col] = le.transform(test[col])\n",
    "    print(le.classes_)\n",
    "\n",
    "data.head(5)\n",
    "\n",
    "\n"
   ]
  },
  {
   "cell_type": "code",
   "execution_count": null,
   "id": "deabb78e-3ec5-4867-876c-8140f9caa632",
   "metadata": {},
   "outputs": [],
   "source": [
    "!pip install scikit-learn\n"
   ]
  },
  {
   "cell_type": "code",
   "execution_count": null,
   "id": "34d1678f-e78d-4d4b-bd42-b5a15b5e68f0",
   "metadata": {},
   "outputs": [],
   "source": [
    "from sklearn.linear_model import LogisticRegression\n",
    "from sklearn.model_selection import train_test_split\n",
    "\n",
    "y = data[\"Survived\"]\n",
    "X = data.drop(\"Survived\",axis=1)\n",
    "\n",
    "X_train, X_val, y_train, y_val = train_test_split(X, y, test_size = 0.2, random_state = 42)"
   ]
  },
  {
   "cell_type": "code",
   "execution_count": null,
   "id": "f1a60c65-2bdc-4f1b-bda7-2f2de1f847fd",
   "metadata": {},
   "outputs": [],
   "source": [
    "clf = LogisticRegression(random_state=0, max_iter=1000).fit(X_train, y_train)"
   ]
  },
  {
   "cell_type": "code",
   "execution_count": null,
   "id": "d33a8d22-f941-4d09-82a5-14c52caa7cee",
   "metadata": {},
   "outputs": [],
   "source": [
    "predictions = clf.predict(X_val)\n",
    "from sklearn.metrics import accuracy_score\n",
    "accuracy_score(y_val, predictions)"
   ]
  },
  {
   "cell_type": "code",
   "execution_count": null,
   "id": "e01fcc89-97f8-4c72-888b-8bb8cccce68d",
   "metadata": {},
   "outputs": [],
   "source": [
    "submission_preds = clf.predict(test)\n"
   ]
  },
  {
   "cell_type": "code",
   "execution_count": null,
   "id": "2074beba-3069-421c-8b4e-24415ea1b376",
   "metadata": {},
   "outputs": [],
   "source": [
    "df = pd.DataFrame([\"PassengerId\":test_ids.values,\n",
    "                  \"Survived\":submission_preds,\n",
    "                  ])"
   ]
  },
  {
   "cell_type": "code",
   "execution_count": null,
   "id": "f9181ffb-c33b-4c08-9fc0-38a613f4cde7",
   "metadata": {},
   "outputs": [],
   "source": [
    "df.to_csv(\"submission.csv\", index=False)"
   ]
  }
 ],
 "metadata": {
  "kernelspec": {
   "display_name": "Python 3 (ipykernel)",
   "language": "python",
   "name": "python3"
  },
  "language_info": {
   "codemirror_mode": {
    "name": "ipython",
    "version": 3
   },
   "file_extension": ".py",
   "mimetype": "text/x-python",
   "name": "python",
   "nbconvert_exporter": "python",
   "pygments_lexer": "ipython3",
   "version": "3.12.4"
  }
 },
 "nbformat": 4,
 "nbformat_minor": 5
}
